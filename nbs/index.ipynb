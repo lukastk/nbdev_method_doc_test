{
 "cells": [
  {
   "cell_type": "code",
   "execution_count": null,
   "metadata": {},
   "outputs": [],
   "source": [
    "#| hide\n",
    "from nbdev.showdoc import *"
   ]
  },
  {
   "cell_type": "markdown",
   "metadata": {},
   "source": [
    "# nbdev_method_doc_test\n",
    "\n",
    "> Code to reproduce a bug in the documentation rendering in nbdev"
   ]
  },
  {
   "cell_type": "code",
   "execution_count": null,
   "metadata": {},
   "outputs": [
    {
     "data": {
      "text/markdown": [
       "---\n",
       "\n",
       "### foo1\n",
       "\n",
       ">      foo1 ()\n",
       "\n",
       "Docstring"
      ],
      "text/plain": [
       "---\n",
       "\n",
       "### foo1\n",
       "\n",
       ">      foo1 ()\n",
       "\n",
       "Docstring"
      ]
     },
     "execution_count": null,
     "metadata": {},
     "output_type": "execute_result"
    }
   ],
   "source": [
    "def foo1(\n",
    "        ) -> int: # Return type documentation\n",
    "    \"\"\"Docstring\"\"\"\n",
    "    return 1\n",
    "\n",
    "show_doc(foo1)"
   ]
  },
  {
   "cell_type": "code",
   "execution_count": null,
   "metadata": {},
   "outputs": [
    {
     "data": {
      "text/markdown": [
       "---\n",
       "\n",
       "### foo2\n",
       "\n",
       ">      foo2 (a)\n",
       "\n",
       "Docstring\n",
       "\n",
       "|    | **Type** | **Details** |\n",
       "| -- | -------- | ----------- |\n",
       "| a |  | test |\n",
       "| **Returns** | **int** | **Return type documentation** |"
      ],
      "text/plain": [
       "---\n",
       "\n",
       "### foo2\n",
       "\n",
       ">      foo2 (a)\n",
       "\n",
       "Docstring\n",
       "\n",
       "|    | **Type** | **Details** |\n",
       "| -- | -------- | ----------- |\n",
       "| a |  | test |\n",
       "| **Returns** | **int** | **Return type documentation** |"
      ]
     },
     "execution_count": null,
     "metadata": {},
     "output_type": "execute_result"
    }
   ],
   "source": [
    "def foo2(\n",
    "        a, # test\n",
    "        ) -> int: # Return type documentation\n",
    "    \"\"\"Docstring\"\"\"\n",
    "    return 1\n",
    "\n",
    "show_doc(foo2)"
   ]
  }
 ],
 "metadata": {
  "kernelspec": {
   "display_name": "python3",
   "language": "python",
   "name": "python3"
  }
 },
 "nbformat": 4,
 "nbformat_minor": 4
}
